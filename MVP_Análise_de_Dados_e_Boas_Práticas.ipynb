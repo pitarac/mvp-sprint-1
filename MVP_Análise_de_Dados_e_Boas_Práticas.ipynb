{
  "nbformat": 4,
  "nbformat_minor": 0,
  "metadata": {
    "colab": {
      "provenance": [],
      "authorship_tag": "ABX9TyPGlvB0K3k4eO+L/I3/obyu",
      "include_colab_link": true
    },
    "kernelspec": {
      "name": "python3",
      "display_name": "Python 3"
    },
    "language_info": {
      "name": "python"
    }
  },
  "cells": [
    {
      "cell_type": "markdown",
      "metadata": {
        "id": "view-in-github",
        "colab_type": "text"
      },
      "source": [
        "<a href=\"https://colab.research.google.com/github/pitarac/mvp-sprint-1/blob/main/MVP_An%C3%A1lise_de_Dados_e_Boas_Pr%C3%A1ticas.ipynb\" target=\"_parent\"><img src=\"https://colab.research.google.com/assets/colab-badge.svg\" alt=\"Open In Colab\"/></a>"
      ]
    },
    {
      "cell_type": "markdown",
      "source": [
        "# Indentificação:\n"
      ],
      "metadata": {
        "id": "9uQehDNXlHhp"
      }
    },
    {
      "cell_type": "markdown",
      "source": [
        "\n",
        "\n",
        "\n",
        "<p align=\"center\">\n",
        "  <img src=\"https://github.com/pitarac/mvp-sprint-1/blob/main/IMG/Sprint.png?raw=true\" alt=\"Imagem com um globo com diversos traços o que passa a ideia de tecnologia, e a escreita Sprint-1, na linha de baixo Análise de dados e boas praticas.\"/>\n",
        "</p>\n"
      ],
      "metadata": {
        "id": "cnwo1Rxyg5_m"
      }
    },
    {
      "cell_type": "markdown",
      "source": [
        "\n",
        "**Nome do aluno:** Paulo Henrique Lima da Silva CPF: 032.838.091-19\n",
        "**Disciplina:** Sprint I Análise de Dados e Boas Práticas(40530010056_20230_01)  \n",
        "**Curso:** Ciência de Dados e Analytics  \n",
        "**Instituição:** PUC-Rio\n"
      ],
      "metadata": {
        "id": "378m6r6Wj88X"
      }
    },
    {
      "cell_type": "markdown",
      "source": [
        "# Introdução ao Projeto de Análise de Dados\n",
        "\n"
      ],
      "metadata": {
        "id": "tq0Aq3p1lWjm"
      }
    },
    {
      "cell_type": "markdown",
      "source": [
        "## Apresentação\n",
        "\n",
        "Olá, Professores! Meu nome é Paulo Henrique e este é o projeto que desenvolvi para a disciplina de Análise de Dados e Boas Práticas. O objetivo deste trabalho é aplicar os conhecimentos adquiridos durante a SPRINT em um contexto prático e realista de análise de dados.\n",
        "\n",
        "## Escolha do Dataset\n",
        "\n",
        "Para este projeto, a base de dados escolhida é [Nome do Dataset], que encontrei no repositório [Nome do Repositório]. Escolhi esse dataset porque [Breve justificativa da escolha do dataset].\n",
        "\n",
        "\n",
        "## Metodologia\n",
        "\n",
        "Neste projeto, seguirei as etapas de análise de dados conforme aprendido nas disciplinas de Análise Exploratória e Pré-processamento de Dados. As etapas incluem:\n",
        "\n",
        "1. **Definição do Problema**: Descreverei o problema de forma clara e estabelecerei os objetivos da análise.\n",
        "\n",
        "2. **Análise Exploratória de Dados**: Explorarei o dataset para entender melhor os dados disponíveis, incluindo estatísticas descritivas e visualizações.\n",
        "\n",
        "3. **Pré-processamento de Dados**: Realizarei as operações necessárias de limpeza e preparação dos dados para análise.\n",
        "\n",
        "4. **Análise de Dados**: Com base nos dados pré-processados, realizarei uma análise detalhada, buscando insights e respondendo às perguntas importantes relacionadas ao problema definido.\n",
        "\n",
        "## Estrutura do Notebook\n",
        "\n",
        "O notebook no Google Colab incluirá:\n",
        "\n",
        "- Descrições detalhadas de cada etapa do processo.\n",
        "- Código em Python, utilizando bibliotecas apropriadas.\n",
        "- Comentários e documentação para explicar as decisões tomadas durante a análise.\n",
        "\n",
        "## Observações Finais\n",
        "\n",
        "Este projeto é uma oportunidade para demonstrar as habilidades e conhecimentos que adquiri durante o curso. Estou ansioso para compartilhar minhas descobertas e aprender com este exercício prático.\n",
        "\n",
        "Agradeço pela orientação e pelo suporte ao longo deste curso.\n",
        "\n",
        "Atenciosamente,\n",
        "Paulo Henrique.\n",
        "\n"
      ],
      "metadata": {
        "id": "yaiMn6RWsWt8"
      }
    },
    {
      "cell_type": "markdown",
      "source": [
        "# Definição do Problema"
      ],
      "metadata": {
        "id": "iQ_03wVwr6XN"
      }
    },
    {
      "cell_type": "markdown",
      "source": [
        "#Acesso  a VPS que contem os arquivos csv\n"
      ],
      "metadata": {
        "id": "nCXBKV1xbA2z"
      }
    },
    {
      "cell_type": "code",
      "source": [
        "from google.colab import userdata\n",
        "#Chave secreta de acesso a VPS que contem as tabelas.\n",
        "chave_privada = userdata.get('chave_ssh_puc')"
      ],
      "metadata": {
        "id": "tadVy3ZeZrhj"
      },
      "execution_count": 7,
      "outputs": []
    },
    {
      "cell_type": "code",
      "source": [
        "!mkdir -p /root/.ssh\n",
        "!ssh-keyscan -H {host} >> /root/.ssh/known_hosts\n"
      ],
      "metadata": {
        "id": "xjxL721JapmY"
      },
      "execution_count": 9,
      "outputs": []
    },
    {
      "cell_type": "code",
      "source": [
        "with open('/root/.ssh/id_rsa', 'w') as file:\n",
        "    file.write(chave_privada)\n",
        "!chmod 600 /root/.ssh/id_rsa\n"
      ],
      "metadata": {
        "id": "uzhGgQ3oZumD"
      },
      "execution_count": 10,
      "outputs": []
    },
    {
      "cell_type": "code",
      "source": [
        "user = userdata.get('User')\n",
        "host = userdata.get('host')\n",
        "\n",
        "!scp -i /root/.ssh/id_rsa -r {user}@{host}:/var/www/dataset.consumidor.gov/*.csv /content/\n"
      ],
      "metadata": {
        "colab": {
          "base_uri": "https://localhost:8080/"
        },
        "id": "g0ewRC1PZ-4F",
        "outputId": "e186f89b-9a57-4fd2-8513-d4c4a47dde0f"
      },
      "execution_count": 11,
      "outputs": [
        {
          "output_type": "stream",
          "name": "stdout",
          "text": [
            "Host key verification failed.\r\n"
          ]
        }
      ]
    },
    {
      "cell_type": "markdown",
      "source": [
        "# Listar e Ler os Arquivos CSV"
      ],
      "metadata": {
        "id": "PNuYHndfaKQe"
      }
    },
    {
      "cell_type": "code",
      "source": [
        "import os\n",
        "import pandas as pd\n",
        "\n",
        "path = '/content/'  # Caminho onde os arquivos CSV foram salvos\n",
        "all_files = [os.path.join(path, f) for f in os.listdir(path) if f.endswith('.csv')]\n",
        "\n",
        "df_list = [pd.read_csv(file) for file in all_files]\n",
        "combined_df = pd.concat(df_list, ignore_index=True)\n"
      ],
      "metadata": {
        "id": "8tC_telfaHEy"
      },
      "execution_count": null,
      "outputs": []
    }
  ]
}